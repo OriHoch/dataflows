{
 "cells": [
  {
   "cell_type": "markdown",
   "metadata": {},
   "source": [
    "# Dataflows Tutorial\n",
    "\n",
    "This tutorial is built as a Jupyter notebook which allows you to run and modify the code inline and can be used as a starting point for new Dataflows projects.\n",
    "\n",
    "If you want, you can just skip the installation section and follow the tutorial as-is, copy-pasting the relevant code example to your Python interpreter."
   ]
  },
  {
   "cell_type": "markdown",
   "metadata": {},
   "source": [
    "## Installation\n",
    "\n",
    "Easiest way to get started on any OS is to [Download and install the latest Python 3 Miniconda distribution](https://conda.io/miniconda.html)\n",
    "\n",
    "Open a terminal with Miniconda (or Anaconda) and run the following to create a environment:\n",
    "\n",
    "```sh\n",
    "conda create -n dataflows 'python<3.7' jupyter jupyterlab ipython requests\n",
    "```\n",
    "\n",
    "Activate the environment and install some the required dependencies:\n",
    "\n",
    "```sh\n",
    ". activate dataflows\n",
    "conda install -c conda-forge 'cchardet<2'\n",
    "pip install -U dataflows\n",
    "```\n",
    "\n",
    "Save the tutorial notebook in current working directory (right-click and save on following link): https://raw.githubusercontent.com/hasadna/knesset-data-pipelines/master/jupyter-notebooks/committee%20meeting%20attendees.ipynb\n",
    "\n",
    "Start Jupyter Lab:\n",
    "\n",
    "```sh\n",
    "jupyter lab\n",
    "```\n",
    "\n",
    "Double-click the tutorial notebook you downloaded from the sidebar of Jupyter Lab"
   ]
  },
  {
   "cell_type": "markdown",
   "metadata": {},
   "source": [
    "## Learn how to write your own processing flows\n",
    "\n",
    "Let's start with the traditional 'hello, world' example:"
   ]
  },
  {
   "cell_type": "code",
   "execution_count": 1,
   "metadata": {},
   "outputs": [
    {
     "data": {
      "text/plain": [
       "[[{'data': 'hello'}, {'data': 'world'}]]"
      ]
     },
     "execution_count": 1,
     "metadata": {},
     "output_type": "execute_result"
    }
   ],
   "source": [
    "from dataflows import Flow\n",
    "\n",
    "data = [\n",
    "  {'data': 'Hello'},\n",
    "  {'data': 'World'}\n",
    "]\n",
    "\n",
    "def lowerData(row):\n",
    "    row['data'] = row['data'].lower()\n",
    "\n",
    "Flow(\n",
    "      data,\n",
    "      lowerData\n",
    ").results()[0]"
   ]
  },
  {
   "cell_type": "markdown",
   "metadata": {},
   "source": [
    "This very simple flow takes a list of `dict`s and applies a row processing function on each one of them.\n",
    "\n",
    "We can load data from a file instead:"
   ]
  },
  {
   "cell_type": "code",
   "execution_count": 2,
   "metadata": {},
   "outputs": [
    {
     "name": "stdout",
     "output_type": "stream",
     "text": [
      "Overwriting beatles.csv\n"
     ]
    }
   ],
   "source": [
    "%%writefile beatles.csv\n",
    "name,instrument \n",
    "john,guitar\n",
    "paul,bass\n",
    "george,guitar\n",
    "ringo,drums"
   ]
  },
  {
   "cell_type": "code",
   "execution_count": 3,
   "metadata": {},
   "outputs": [
    {
     "data": {
      "text/plain": [
       "[[{'name': 'John', 'instrument': 'guitar'},\n",
       "  {'name': 'Paul', 'instrument': 'bass'},\n",
       "  {'name': 'George', 'instrument': 'guitar'},\n",
       "  {'name': 'Ringo', 'instrument': 'drums'}]]"
      ]
     },
     "execution_count": 3,
     "metadata": {},
     "output_type": "execute_result"
    }
   ],
   "source": [
    "from dataflows import Flow, load\n",
    "\n",
    "def titleName(row):\n",
    "    row['name'] = row['name'].title()\n",
    "\n",
    "Flow(\n",
    "      load('beatles.csv'),\n",
    "      titleName\n",
    ").results()[0]"
   ]
  },
  {
   "cell_type": "markdown",
   "metadata": {},
   "source": [
    "The source file can be a CSV file, an Excel file or a Json file. You can use a local file name or a URL for a file hosted somewhere on the web.\n",
    "\n",
    "Data sources can be generators and not just lists or files. Let's take as an example a very simple scraper:"
   ]
  },
  {
   "cell_type": "code",
   "execution_count": 4,
   "metadata": {},
   "outputs": [
    {
     "data": {
      "text/html": [
       "<h3>res_1</h3>"
      ],
      "text/plain": [
       "<IPython.core.display.HTML object>"
      ]
     },
     "metadata": {},
     "output_type": "display_data"
    },
    {
     "data": {
      "text/html": [
       "<table>\n",
       "<thead>\n",
       "<tr><th>#  </th><th>name\n",
       "(string)                                 </th><th>population\n",
       "(string)              </th></tr>\n",
       "</thead>\n",
       "<tbody>\n",
       "<tr><td>1  </td><td>China                           </td><td>1,394,620,000</td></tr>\n",
       "<tr><td>2  </td><td>India                           </td><td>1,338,270,000</td></tr>\n",
       "<tr><td>3  </td><td>United States                   </td><td>328,003,000  </td></tr>\n",
       "<tr><td>4  </td><td>Indonesia                       </td><td>265,015,300  </td></tr>\n",
       "<tr><td>5  </td><td>Brazil                          </td><td>209,716,000  </td></tr>\n",
       "<tr><td>...</td><td>                                </td><td>             </td></tr>\n",
       "<tr><td>8  </td><td>Bangladesh                      </td><td>165,362,000  </td></tr>\n",
       "<tr><td>9  </td><td>Russia                          </td><td>146,877,088  </td></tr>\n",
       "<tr><td>...</td><td>                                </td><td>             </td></tr>\n",
       "<tr><td>16 </td><td>Democratic Republic of the Congo</td><td>84,004,989   </td></tr>\n",
       "<tr><td>17 </td><td>Germany                         </td><td>82,793,800   </td></tr>\n",
       "<tr><td>...</td><td>                                </td><td>             </td></tr>\n",
       "<tr><td>32 </td><td>Algeria                         </td><td>42,545,964   </td></tr>\n",
       "<tr><td>33 </td><td>Ukraine                         </td><td>42,248,129   </td></tr>\n",
       "<tr><td>...</td><td>                                </td><td>             </td></tr>\n",
       "<tr><td>64 </td><td>Malawi                          </td><td>17,931,637   </td></tr>\n",
       "<tr><td>65 </td><td>Chile                           </td><td>17,574,003   </td></tr>\n",
       "<tr><td>...</td><td>                                </td><td>             </td></tr>\n",
       "<tr><td>128</td><td>Kuwait                          </td><td>4,226,920    </td></tr>\n",
       "<tr><td>129</td><td>Panama                          </td><td>4,158,783    </td></tr>\n",
       "<tr><td>...</td><td>                                </td><td>             </td></tr>\n",
       "<tr><td>239</td><td>Cocos (Keeling) Islands         </td><td>544          </td></tr>\n",
       "<tr><td>240</td><td>Pitcairn Islands                </td><td>50           </td></tr>\n",
       "</tbody>\n",
       "</table>"
      ],
      "text/plain": [
       "<IPython.core.display.HTML object>"
      ]
     },
     "metadata": {},
     "output_type": "display_data"
    },
    {
     "data": {
      "text/plain": [
       "(<datapackage.package.Package at 0x7f283f1106a0>, {})"
      ]
     },
     "execution_count": 4,
     "metadata": {},
     "output_type": "execute_result"
    }
   ],
   "source": [
    "from dataflows import Flow, printer\n",
    "\n",
    "from xml.etree import ElementTree\n",
    "from urllib.request import urlopen\n",
    "\n",
    "# Get from Wikipedia the population count for each country\n",
    "def country_population():\n",
    "    # Read the Wikipedia page and parse it using etree\n",
    "    page = urlopen('https://en.wikipedia.org/wiki/List_of_countries_and_dependencies_by_population').read()\n",
    "    tree = ElementTree.fromstring(page)\n",
    "    # Iterate on all tables, rows and cells\n",
    "    for table in tree.findall('.//table'):\n",
    "        if 'wikitable' in table.attrib.get('class', ''):\n",
    "            for row in table.find('tbody').findall('tr'):\n",
    "                cells = row.findall('td')\n",
    "                if len(cells) > 3:\n",
    "                    # If a matching row is found...\n",
    "                    name = cells[1].find('.//a').attrib.get('title')\n",
    "                    population = cells[2].text\n",
    "                    # ... yield a row with the information\n",
    "                    yield dict(\n",
    "                        name=name,\n",
    "                        population=population\n",
    "                    )\n",
    "\n",
    "Flow(\n",
    "      country_population(),\n",
    "      printer(num_rows=2, tablefmt='html')\n",
    ").process()"
   ]
  },
  {
   "cell_type": "markdown",
   "metadata": {},
   "source": [
    "This is nice, but we do prefer the numbers to be actual numbers and not strings.\n",
    "\n",
    "In order to do that, let's simply define their type to be numeric and truncate to millions:"
   ]
  },
  {
   "cell_type": "code",
   "execution_count": 5,
   "metadata": {},
   "outputs": [
    {
     "data": {
      "text/html": [
       "<h3>res_1</h3>"
      ],
      "text/plain": [
       "<IPython.core.display.HTML object>"
      ]
     },
     "metadata": {},
     "output_type": "display_data"
    },
    {
     "data": {
      "text/html": [
       "<table>\n",
       "<thead>\n",
       "<tr><th>#  </th><th>name\n",
       "(string)                                 </th><th style=\"text-align: right;\">            population\n",
       "(number)</th></tr>\n",
       "</thead>\n",
       "<tbody>\n",
       "<tr><td>1  </td><td>China                           </td><td style=\"text-align: right;\">1394.62    </td></tr>\n",
       "<tr><td>2  </td><td>India                           </td><td style=\"text-align: right;\">1338.27    </td></tr>\n",
       "<tr><td>3  </td><td>United States                   </td><td style=\"text-align: right;\"> 328.003   </td></tr>\n",
       "<tr><td>4  </td><td>Indonesia                       </td><td style=\"text-align: right;\"> 265.015   </td></tr>\n",
       "<tr><td>5  </td><td>Brazil                          </td><td style=\"text-align: right;\"> 209.716   </td></tr>\n",
       "<tr><td>...</td><td>                                </td><td style=\"text-align: right;\">           </td></tr>\n",
       "<tr><td>8  </td><td>Bangladesh                      </td><td style=\"text-align: right;\"> 165.362   </td></tr>\n",
       "<tr><td>9  </td><td>Russia                          </td><td style=\"text-align: right;\"> 146.877   </td></tr>\n",
       "<tr><td>...</td><td>                                </td><td style=\"text-align: right;\">           </td></tr>\n",
       "<tr><td>16 </td><td>Democratic Republic of the Congo</td><td style=\"text-align: right;\">  84.005   </td></tr>\n",
       "<tr><td>17 </td><td>Germany                         </td><td style=\"text-align: right;\">  82.7938  </td></tr>\n",
       "<tr><td>...</td><td>                                </td><td style=\"text-align: right;\">           </td></tr>\n",
       "<tr><td>32 </td><td>Algeria                         </td><td style=\"text-align: right;\">  42.546   </td></tr>\n",
       "<tr><td>33 </td><td>Ukraine                         </td><td style=\"text-align: right;\">  42.2481  </td></tr>\n",
       "<tr><td>...</td><td>                                </td><td style=\"text-align: right;\">           </td></tr>\n",
       "<tr><td>64 </td><td>Malawi                          </td><td style=\"text-align: right;\">  17.9316  </td></tr>\n",
       "<tr><td>65 </td><td>Chile                           </td><td style=\"text-align: right;\">  17.574   </td></tr>\n",
       "<tr><td>...</td><td>                                </td><td style=\"text-align: right;\">           </td></tr>\n",
       "<tr><td>128</td><td>Kuwait                          </td><td style=\"text-align: right;\">   4.22692 </td></tr>\n",
       "<tr><td>129</td><td>Panama                          </td><td style=\"text-align: right;\">   4.15878 </td></tr>\n",
       "<tr><td>...</td><td>                                </td><td style=\"text-align: right;\">           </td></tr>\n",
       "<tr><td>239</td><td>Cocos (Keeling) Islands         </td><td style=\"text-align: right;\">   0.000544</td></tr>\n",
       "<tr><td>240</td><td>Pitcairn Islands                </td><td style=\"text-align: right;\">   5e-05   </td></tr>\n",
       "</tbody>\n",
       "</table>"
      ],
      "text/plain": [
       "<IPython.core.display.HTML object>"
      ]
     },
     "metadata": {},
     "output_type": "display_data"
    },
    {
     "data": {
      "text/plain": [
       "(<datapackage.package.Package at 0x7f283f04a9e8>, {})"
      ]
     },
     "execution_count": 5,
     "metadata": {},
     "output_type": "execute_result"
    }
   ],
   "source": [
    "from dataflows import Flow, set_type\n",
    "\n",
    "Flow(\n",
    "\tcountry_population(),\n",
    "    set_type('population', type='number', groupChar=','),\n",
    "    lambda row: dict(row, population=row['population']/1000000),\n",
    "    printer(num_rows=2, tablefmt='html')\n",
    ").process()"
   ]
  },
  {
   "cell_type": "markdown",
   "metadata": {},
   "source": [
    "Data is automatically converted to the correct native Python type.\n",
    "\n",
    "Apart from data-types, it's also possible to set other constraints to the data. If the data fails validation (or does not fit the assigned data-type) an exception will be thrown - making this method highly effective for validating data and ensuring data quality. \n",
    "\n",
    "What about large data files? In the above examples, the results are loaded into memory, which is not always preferrable or acceptable. In many cases, we'd like to store the results directly onto a hard drive - without having the machine's RAM limit in any way the amount of data we can process.\n",
    "\n",
    "We do it by using _dump_ processors:"
   ]
  },
  {
   "cell_type": "code",
   "execution_count": 6,
   "metadata": {},
   "outputs": [
    {
     "data": {
      "text/plain": [
       "(<datapackage.package.Package at 0x7f283f1aa908>,\n",
       " {'count_of_rows': 240,\n",
       "  'bytes': 5289,\n",
       "  'hash': '3bbfa40f5d22287e82da40dc6d7581a2',\n",
       "  'dataset_name': None})"
      ]
     },
     "execution_count": 6,
     "metadata": {},
     "output_type": "execute_result"
    }
   ],
   "source": [
    "from dataflows import Flow, set_type, dump_to_path\n",
    "\n",
    "Flow(\n",
    "    country_population(),\n",
    "    set_type('population', type='number', groupChar=','),\n",
    "    dump_to_path('country_population')\n",
    ").process()"
   ]
  },
  {
   "cell_type": "markdown",
   "metadata": {},
   "source": [
    "Running this code will create a local directory called `county_population`, containing two files:"
   ]
  },
  {
   "cell_type": "code",
   "execution_count": 7,
   "metadata": {},
   "outputs": [
    {
     "name": "stdout",
     "output_type": "stream",
     "text": [
      "country_population/res_1.csv\n",
      "country_population/datapackage.json\n"
     ]
    }
   ],
   "source": [
    "import glob\n",
    "print(\"\\n\".join(glob.glob('country_population/*')))"
   ]
  },
  {
   "cell_type": "markdown",
   "metadata": {},
   "source": [
    "The CSV file - `res_1.csv` - is where the data is stored. The `datapackage.json` file is a metadata file, holding information about the data, including its schema.\n",
    "\n",
    "We can now open the CSV file with any spreadsheet program or code library supporting the CSV format - or using one of the **data package** libraries out there, like so:"
   ]
  },
  {
   "cell_type": "code",
   "execution_count": 8,
   "metadata": {},
   "outputs": [
    {
     "name": "stdout",
     "output_type": "stream",
     "text": [
      "{'name': 'China', 'population': Decimal('1394620000')}\n"
     ]
    }
   ],
   "source": [
    "from datapackage import Package\n",
    "pkg = Package('country_population/datapackage.json')\n",
    "it = pkg.resources[0].iter(keyed=True)\n",
    "print(next(it))"
   ]
  },
  {
   "cell_type": "markdown",
   "metadata": {},
   "source": [
    "Note how using the data package meta-data, data-types are restored and there's no need to 're-parse' the data. This also works with other types too, such as dates, booleans and even `list`s and `dict`s.\n",
    "\n",
    "So far we've seen how to load data, process it row by row, and then inspect the results or store them in a data package.\n",
    "\n",
    "Let's see how we can do more complex processing by manipulating the entire data stream:"
   ]
  },
  {
   "cell_type": "code",
   "execution_count": 9,
   "metadata": {},
   "outputs": [
    {
     "data": {
      "text/html": [
       "<h3>res_1</h3>"
      ],
      "text/plain": [
       "<IPython.core.display.HTML object>"
      ]
     },
     "metadata": {},
     "output_type": "display_data"
    },
    {
     "data": {
      "text/html": [
       "<table>\n",
       "<thead>\n",
       "<tr><th style=\"text-align: right;\">  #</th><th style=\"text-align: right;\">   a\n",
       "(integer)</th><th style=\"text-align: right;\">   b\n",
       "(integer)</th><th style=\"text-align: right;\">   c\n",
       "(integer)</th></tr>\n",
       "</thead>\n",
       "<tbody>\n",
       "<tr><td style=\"text-align: right;\">  1</td><td style=\"text-align: right;\"> 3</td><td style=\"text-align: right;\"> 4</td><td style=\"text-align: right;\"> 5</td></tr>\n",
       "<tr><td style=\"text-align: right;\">  2</td><td style=\"text-align: right;\"> 5</td><td style=\"text-align: right;\">12</td><td style=\"text-align: right;\">13</td></tr>\n",
       "<tr><td style=\"text-align: right;\">  3</td><td style=\"text-align: right;\"> 6</td><td style=\"text-align: right;\"> 8</td><td style=\"text-align: right;\">10</td></tr>\n",
       "<tr><td style=\"text-align: right;\">  4</td><td style=\"text-align: right;\"> 8</td><td style=\"text-align: right;\">15</td><td style=\"text-align: right;\">17</td></tr>\n",
       "<tr><td style=\"text-align: right;\">  5</td><td style=\"text-align: right;\"> 9</td><td style=\"text-align: right;\">12</td><td style=\"text-align: right;\">15</td></tr>\n",
       "<tr><td style=\"text-align: right;\">  6</td><td style=\"text-align: right;\">12</td><td style=\"text-align: right;\">16</td><td style=\"text-align: right;\">20</td></tr>\n",
       "</tbody>\n",
       "</table>"
      ],
      "text/plain": [
       "<IPython.core.display.HTML object>"
      ]
     },
     "metadata": {},
     "output_type": "display_data"
    },
    {
     "data": {
      "text/plain": [
       "(<datapackage.package.Package at 0x7f283ef68240>,\n",
       " {'count_of_rows': 6,\n",
       "  'bytes': 744,\n",
       "  'hash': '1f0df7ed401ccff9f6c1674e98c62467',\n",
       "  'dataset_name': None})"
      ]
     },
     "execution_count": 9,
     "metadata": {},
     "output_type": "execute_result"
    }
   ],
   "source": [
    "from dataflows import Flow, set_type, dump_to_path, printer\n",
    "\n",
    "# Generate all triplets (a,b,c) so that 1 <= a <= b < c <= 20\n",
    "def all_triplets():\n",
    "    for a in range(1, 20):\n",
    "        for b in range(a, 20):\n",
    "            for c in range(b+1, 21):\n",
    "                yield dict(a=a, b=b, c=c)\n",
    "\n",
    "# Yield row only if a^2 + b^2 == c^1\n",
    "def filter_pythagorean_triplets(rows):\n",
    "    for row in rows:\n",
    "        if row['a']**2 + row['b']**2 == row['c']**2:\n",
    "            yield row\n",
    "\n",
    "Flow(\n",
    "    all_triplets(),\n",
    "    set_type('a', type='integer'),\n",
    "    set_type('b', type='integer'),\n",
    "    set_type('c', type='integer'),\n",
    "    filter_pythagorean_triplets,\n",
    "    dump_to_path('pythagorean_triplets'),\n",
    "    printer(tablefmt='html')\n",
    ").process()"
   ]
  },
  {
   "cell_type": "markdown",
   "metadata": {},
   "source": [
    "The `filter_pythagorean_triplets` function takes an iterator of rows, and yields only the ones that pass its condition. \n",
    "\n",
    "The flow framework knows whether a function is meant to hande a single row or a row iterator based on its parameters: \n",
    "\n",
    "- if it accepts a single `row` parameter, then it's a row processor.\n",
    "- if it accepts a single `rows` parameter, then it's a rows processor.\n",
    "- if it accepts a single `package` parameter, then it's a package processor.\n",
    "\n",
    "Let's see a few examples of what we can do with a package processors.\n",
    "\n",
    "First, let's add a field to the data:"
   ]
  },
  {
   "cell_type": "code",
   "execution_count": 10,
   "metadata": {},
   "outputs": [
    {
     "data": {
      "text/html": [
       "<h3>beatles</h3>"
      ],
      "text/plain": [
       "<IPython.core.display.HTML object>"
      ]
     },
     "metadata": {},
     "output_type": "display_data"
    },
    {
     "data": {
      "text/html": [
       "<table>\n",
       "<thead>\n",
       "<tr><th style=\"text-align: right;\">  #</th><th>name\n",
       "(string)       </th><th>instrument\n",
       "(string)       </th></tr>\n",
       "</thead>\n",
       "<tbody>\n",
       "<tr><td style=\"text-align: right;\">  1</td><td>john  </td><td>guitar</td></tr>\n",
       "<tr><td style=\"text-align: right;\">  2</td><td>paul  </td><td>bass  </td></tr>\n",
       "<tr><td style=\"text-align: right;\">  3</td><td>george</td><td>guitar</td></tr>\n",
       "<tr><td style=\"text-align: right;\">  4</td><td>ringo </td><td>drums </td></tr>\n",
       "</tbody>\n",
       "</table>"
      ],
      "text/plain": [
       "<IPython.core.display.HTML object>"
      ]
     },
     "metadata": {},
     "output_type": "display_data"
    },
    {
     "data": {
      "text/plain": [
       "(<datapackage.package.Package at 0x7f283ff90550>,\n",
       " {'count_of_rows': 4,\n",
       "  'bytes': 736,\n",
       "  'hash': 'c981f41849038911cfc6145056ae42de',\n",
       "  'dataset_name': None})"
      ]
     },
     "execution_count": 10,
     "metadata": {},
     "output_type": "execute_result"
    }
   ],
   "source": [
    "from dataflows import Flow, load, dump_to_path\n",
    "\n",
    "\n",
    "def add_is_guitarist_column_to_schema(package):\n",
    "    # Add a new field to the first resource\n",
    "    package.pkg.resources[0].descriptor['schema']['fields'].append(dict(\n",
    "            name='is_guitarist',\n",
    "            type='boolean'\n",
    "    ))\n",
    "    # Must yield the modified datapackage\n",
    "    yield package.pkg\n",
    "    # And its resources\n",
    "    yield from package\n",
    "\n",
    "def add_is_guitarist_column(row):\n",
    "    row['is_guitarist'] = row['instrument'] == 'guitar'\n",
    "    return row\n",
    "\n",
    "Flow(\n",
    "    # Same one as above\n",
    "    load('beatles.csv'),\n",
    "    add_is_guitarist_column_to_schema,\n",
    "    add_is_guitarist_column,\n",
    "    dump_to_path('beatles_guitarists'),\n",
    "    printer(tablefmt='html')\n",
    ").process()"
   ]
  },
  {
   "cell_type": "markdown",
   "metadata": {},
   "source": [
    "In this example we create two steps - one for adding the new field (`is_guitarist`) to the schema and another step to modify the actual data.\n",
    "\n",
    "We can combine the two into one step:"
   ]
  },
  {
   "cell_type": "code",
   "execution_count": 11,
   "metadata": {},
   "outputs": [
    {
     "data": {
      "text/html": [
       "<h3>beatles</h3>"
      ],
      "text/plain": [
       "<IPython.core.display.HTML object>"
      ]
     },
     "metadata": {},
     "output_type": "display_data"
    },
    {
     "data": {
      "text/html": [
       "<table>\n",
       "<thead>\n",
       "<tr><th style=\"text-align: right;\">  #</th><th>name\n",
       "(string)       </th><th>instrument\n",
       "(string)       </th></tr>\n",
       "</thead>\n",
       "<tbody>\n",
       "<tr><td style=\"text-align: right;\">  1</td><td>john  </td><td>guitar</td></tr>\n",
       "<tr><td style=\"text-align: right;\">  2</td><td>paul  </td><td>bass  </td></tr>\n",
       "<tr><td style=\"text-align: right;\">  3</td><td>george</td><td>guitar</td></tr>\n",
       "<tr><td style=\"text-align: right;\">  4</td><td>ringo </td><td>drums </td></tr>\n",
       "</tbody>\n",
       "</table>"
      ],
      "text/plain": [
       "<IPython.core.display.HTML object>"
      ]
     },
     "metadata": {},
     "output_type": "display_data"
    },
    {
     "data": {
      "text/plain": [
       "(<datapackage.package.Package at 0x7f283f034588>,\n",
       " {'count_of_rows': 4,\n",
       "  'bytes': 736,\n",
       "  'hash': 'c981f41849038911cfc6145056ae42de',\n",
       "  'dataset_name': None})"
      ]
     },
     "execution_count": 11,
     "metadata": {},
     "output_type": "execute_result"
    }
   ],
   "source": [
    "from dataflows import Flow, load, dump_to_path\n",
    "\n",
    "\n",
    "def add_is_guitarist_column(package):\n",
    "\n",
    "    # Add a new field to the first resource\n",
    "    package.pkg.resources[0].descriptor['schema']['fields'].append(dict(\n",
    "        name='is_guitarist',\n",
    "        type='boolean'\n",
    "    ))\n",
    "    # Must yield the modified datapackage\n",
    "    yield package.pkg\n",
    "\n",
    "    # Now iterate on all resources\n",
    "    resources = iter(package)\n",
    "    # Take the first resource\n",
    "    beatles = next(resources)\n",
    "\n",
    "    # And yield it with with the modification\n",
    "    def f(row):\n",
    "        row['is_guitarist'] = row['instrument'] == 'guitar'\n",
    "        return row\n",
    "\n",
    "    yield map(f, beatles)\n",
    "\n",
    "Flow(\n",
    "    # Same one as above\n",
    "    load('beatles.csv'),\n",
    "    add_is_guitarist_column,\n",
    "    dump_to_path('beatles_guitarists'),\n",
    "    printer(tablefmt='html')\n",
    ").process()"
   ]
  },
  {
   "cell_type": "markdown",
   "metadata": {},
   "source": [
    "The contract for the `package` processing function is simple:\n",
    "\n",
    "First modify `package.pkg` (which is a `Package` instance) and yield it.\n",
    "\n",
    "Then, yield any resources that should exist on the output, with or without modifications.\n",
    "\n",
    "In the next example we're removing an entire resource in a package processor - this next one filters the list of Academy Award nominees to those who won both the Oscar and an Emmy award:"
   ]
  },
  {
   "cell_type": "code",
   "execution_count": 12,
   "metadata": {},
   "outputs": [
    {
     "name": "stdout",
     "output_type": "stream",
     "text": [
      "using cache data from .cache/emmy\n"
     ]
    },
    {
     "data": {
      "text/html": [
       "<h3>oscars</h3>"
      ],
      "text/plain": [
       "<IPython.core.display.HTML object>"
      ]
     },
     "metadata": {},
     "output_type": "display_data"
    },
    {
     "data": {
      "text/html": [
       "<table>\n",
       "<thead>\n",
       "<tr><th>#  </th><th>Year\n",
       "(string)          </th><th style=\"text-align: right;\">   Ceremony\n",
       "(integer)</th><th>Award\n",
       "(string)               </th><th style=\"text-align: right;\">  Winner\n",
       "(string)</th><th>Name\n",
       "(string)                  </th><th>Film\n",
       "(string)                           </th></tr>\n",
       "</thead>\n",
       "<tbody>\n",
       "<tr><td>1  </td><td>1931/1932</td><td style=\"text-align: right;\"> 5</td><td>Actress       </td><td style=\"text-align: right;\">1</td><td>Helen Hayes      </td><td>The Sin of Madelon Claudet</td></tr>\n",
       "<tr><td>2  </td><td>1932/1933</td><td style=\"text-align: right;\"> 6</td><td>Actress       </td><td style=\"text-align: right;\">1</td><td>Katharine Hepburn</td><td>Morning Glory             </td></tr>\n",
       "<tr><td>...</td><td>         </td><td style=\"text-align: right;\">  </td><td>              </td><td style=\"text-align: right;\"> </td><td>                 </td><td>                          </td></tr>\n",
       "<tr><td>98 </td><td>2015     </td><td style=\"text-align: right;\">88</td><td>Honorary Award</td><td style=\"text-align: right;\">1</td><td>Gena Rowlands    </td><td>                          </td></tr>\n",
       "</tbody>\n",
       "</table>"
      ],
      "text/plain": [
       "<IPython.core.display.HTML object>"
      ]
     },
     "metadata": {},
     "output_type": "display_data"
    },
    {
     "data": {
      "text/plain": [
       "(<datapackage.package.Package at 0x7f284c0341d0>,\n",
       " {'count_of_rows': 98,\n",
       "  'bytes': 6921,\n",
       "  'hash': '902088336aa4aa4fbab33446a241b5de',\n",
       "  'dataset_name': None})"
      ]
     },
     "execution_count": 12,
     "metadata": {},
     "output_type": "execute_result"
    }
   ],
   "source": [
    "from dataflows import Flow, load, dump_to_path, cache\n",
    "\n",
    "def find_double_winners(package):\n",
    "\n",
    "    # Remove the emmies resource - \n",
    "    #    we're going to consume it now\n",
    "    package.pkg.remove_resource('emmies')\n",
    "    # Must yield the modified datapackage\n",
    "    yield package.pkg\n",
    "\n",
    "    # Now iterate on all resources\n",
    "    resources = iter(package)\n",
    "\n",
    "    # Emmies is the first - \n",
    "    # read all its data and create a set of winner names\n",
    "    emmy = next(resources)\n",
    "    emmy_winners = set(\n",
    "        map(lambda x: x['nominee'], \n",
    "            filter(lambda x: x['winner'],\n",
    "                   emmy))\n",
    "    )\n",
    "\n",
    "    # Oscars are next - \n",
    "    # filter rows based on the emmy winner set\n",
    "    academy = next(resources)\n",
    "    yield filter(lambda row: (row['Winner'] and \n",
    "                              row['Name'] in emmy_winners),\n",
    "                 academy)\n",
    "\n",
    "Flow(\n",
    "    cache(\n",
    "        # Emmy award nominees and winners\n",
    "        load('https://raw.githubusercontent.com/datahq/dataflows/master/data/emmy.csv', name='emmies'),\n",
    "        # Academy award nominees and winners\n",
    "        load('https://raw.githubusercontent.com/datahq/dataflows/master/data/academy.csv', encoding='utf8', name='oscars'),\n",
    "        cache_path='.cache/emmy'\n",
    "    ),\n",
    "    find_double_winners,\n",
    "    dump_to_path('double_winners'),\n",
    "    printer(num_rows=1, tablefmt='html')\n",
    ").process()"
   ]
  },
  {
   "cell_type": "markdown",
   "metadata": {},
   "source": [
    "Notice that we used the cache processor, it keeps a cache in the given `cache_path` and loads from cache if it exists. This will come in handy in the next script where we reuse this data.\n",
    "\n",
    "Previous flow was a bit complicated, but luckily we have the `join`, `concatenate` and `filter_rows` processors which make such combinations a snap"
   ]
  },
  {
   "cell_type": "code",
   "execution_count": 13,
   "metadata": {},
   "outputs": [
    {
     "name": "stdout",
     "output_type": "stream",
     "text": [
      "using cache data from .cache/emmy\n"
     ]
    },
    {
     "data": {
      "text/html": [
       "<h3>oscars</h3>"
      ],
      "text/plain": [
       "<IPython.core.display.HTML object>"
      ]
     },
     "metadata": {},
     "output_type": "display_data"
    },
    {
     "data": {
      "text/html": [
       "<table>\n",
       "<thead>\n",
       "<tr><th>#  </th><th>Year\n",
       "(string)          </th><th style=\"text-align: right;\">   Ceremony\n",
       "(integer)</th><th>Award\n",
       "(string)               </th><th style=\"text-align: right;\">  Winner\n",
       "(string)</th><th>Name\n",
       "(string)                  </th><th>Film\n",
       "(string)                           </th></tr>\n",
       "</thead>\n",
       "<tbody>\n",
       "<tr><td>1  </td><td>1931/1932</td><td style=\"text-align: right;\"> 5</td><td>Actress       </td><td style=\"text-align: right;\">1</td><td>Helen Hayes      </td><td>The Sin of Madelon Claudet</td></tr>\n",
       "<tr><td>2  </td><td>1932/1933</td><td style=\"text-align: right;\"> 6</td><td>Actress       </td><td style=\"text-align: right;\">1</td><td>Katharine Hepburn</td><td>Morning Glory             </td></tr>\n",
       "<tr><td>...</td><td>         </td><td style=\"text-align: right;\">  </td><td>              </td><td style=\"text-align: right;\"> </td><td>                 </td><td>                          </td></tr>\n",
       "<tr><td>98 </td><td>2015     </td><td style=\"text-align: right;\">88</td><td>Honorary Award</td><td style=\"text-align: right;\">1</td><td>Gena Rowlands    </td><td>                          </td></tr>\n",
       "</tbody>\n",
       "</table>"
      ],
      "text/plain": [
       "<IPython.core.display.HTML object>"
      ]
     },
     "metadata": {},
     "output_type": "display_data"
    },
    {
     "data": {
      "text/plain": [
       "(<datapackage.package.Package at 0x7f283e9f0160>,\n",
       " {'count_of_rows': 98,\n",
       "  'bytes': 6921,\n",
       "  'hash': '902088336aa4aa4fbab33446a241b5de',\n",
       "  'dataset_name': None})"
      ]
     },
     "execution_count": 13,
     "metadata": {},
     "output_type": "execute_result"
    }
   ],
   "source": [
    "from dataflows import Flow, load, dump_to_path, join, concatenate, filter_rows, cache, printer\n",
    "\n",
    "Flow(\n",
    "    cache(cache_path='.cache/emmy'),\n",
    "    filter_rows(equals=[dict(winner=1)], resources=['emmies']),\n",
    "    concatenate(\n",
    "        dict(emmy_nominee=['nominee'],),\n",
    "        dict(name='emmies_filtered'),\n",
    "        resources='emmies'\n",
    "    ),\n",
    "    join(\n",
    "        'emmies_filtered', ['emmy_nominee'],  # Source resource\n",
    "        'oscars', ['Name'],                   # Target resource\n",
    "        full=False   # Don't add new fields, remove unmatched rows\n",
    "    ),\n",
    "    filter_rows(equals=[dict(Winner='1')]),\n",
    "    dump_to_path('double_winners'),\n",
    "    printer(num_rows=1, tablefmt='html')\n",
    ").process()"
   ]
  },
  {
   "cell_type": "markdown",
   "metadata": {},
   "source": [
    "## Builtin Processors\n",
    "\n",
    "DataFlows comes with a few built-in processors which do most of the heavy lifting in many common scenarios, leaving you to implement only the minimum code that is specific to your specific problem.\n",
    "\n",
    "A complete list, which also includes an API reference for each one of them, can be found in the [Built-in Processors](https://github.com/datahq/dataflows/blob/master/PROCESSORS.md#builtin-processors) page.\n",
    "\n",
    "## Nested Flows\n",
    "\n",
    "The flow object itself can be used as a step in another flow"
   ]
  },
  {
   "cell_type": "code",
   "execution_count": 14,
   "metadata": {},
   "outputs": [
    {
     "data": {
      "text/html": [
       "<h3>res_1</h3>"
      ],
      "text/plain": [
       "<IPython.core.display.HTML object>"
      ]
     },
     "metadata": {},
     "output_type": "display_data"
    },
    {
     "data": {
      "text/html": [
       "<table>\n",
       "<thead>\n",
       "<tr><th style=\"text-align: right;\">  #</th><th>foo\n",
       "(string)    </th></tr>\n",
       "</thead>\n",
       "<tbody>\n",
       "<tr><td style=\"text-align: right;\">  1</td><td>bAR</td></tr>\n",
       "<tr><td style=\"text-align: right;\">  2</td><td>bAX</td></tr>\n",
       "</tbody>\n",
       "</table>"
      ],
      "text/plain": [
       "<IPython.core.display.HTML object>"
      ]
     },
     "metadata": {},
     "output_type": "display_data"
    },
    {
     "data": {
      "text/plain": [
       "(<datapackage.package.Package at 0x7f283e8ee6a0>, {})"
      ]
     },
     "execution_count": 14,
     "metadata": {},
     "output_type": "execute_result"
    }
   ],
   "source": [
    "from dataflows import Flow, printer\n",
    "\n",
    "def upper(row):\n",
    "    for k in row:\n",
    "        row[k] = row[k].upper()\n",
    "\n",
    "def lower_first_letter(row):\n",
    "    for k in row:\n",
    "        row[k] = f'{row[k][0].lower()}{row[k][1:]}'\n",
    "\n",
    "text_processing_flow = Flow(\n",
    "    upper,\n",
    "    lower_first_letter\n",
    ")\n",
    "\n",
    "Flow(\n",
    "    [{'foo': 'bar'},\n",
    "     {'foo': 'bax'}], \n",
    "    text_processing_flow,\n",
    "    printer(tablefmt='html')\n",
    ").process()"
   ]
  },
  {
   "cell_type": "code",
   "execution_count": null,
   "metadata": {},
   "outputs": [],
   "source": []
  }
 ],
 "metadata": {
  "kernelspec": {
   "display_name": "Python 3",
   "language": "python",
   "name": "python3"
  },
  "language_info": {
   "codemirror_mode": {
    "name": "ipython",
    "version": 3
   },
   "file_extension": ".py",
   "mimetype": "text/x-python",
   "name": "python",
   "nbconvert_exporter": "python",
   "pygments_lexer": "ipython3",
   "version": "3.6.6"
  }
 },
 "nbformat": 4,
 "nbformat_minor": 2
}
